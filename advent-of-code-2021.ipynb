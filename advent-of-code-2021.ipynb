{
 "cells": [
  {
   "cell_type": "code",
   "execution_count": 116,
   "id": "849c72e3",
   "metadata": {},
   "outputs": [],
   "source": [
    "import requests\n",
    "import os\n",
    "import numpy as np\n",
    "\n",
    "cookies = {\n",
    "  \"session\": os.getenv('AOC_SESSION_TOKEN'),\n",
    "}\n",
    "\n",
    "def get_data_for_day(day, test=False):\n",
    "    append = '-test' if test else ''\n",
    "    filepath = f'data/day-{day}{append}.txt'\n",
    "    data = None\n",
    "    if os.path.isfile(filepath):\n",
    "        data = open(filepath, 'r').read()\n",
    "    else:\n",
    "        req = requests.get(f\"https://adventofcode.com/2021/day/{day}/input\", cookies=cookies)\n",
    "        data = req.content.decode('utf-8')\n",
    "        f = open(filepath, \"a\")\n",
    "        f.write(data)\n",
    "        f.close()\n",
    "    \n",
    "    return data.split('\\n')[0:-1]"
   ]
  },
  {
   "cell_type": "markdown",
   "id": "887de7cb",
   "metadata": {},
   "source": [
    "# Day 1"
   ]
  },
  {
   "cell_type": "code",
   "execution_count": 184,
   "id": "1da36301",
   "metadata": {},
   "outputs": [
    {
     "name": "stdout",
     "output_type": "stream",
     "text": [
      "2000 1559 1600\n"
     ]
    }
   ],
   "source": [
    "altitudes = [int(i) for i in get_data_for_day(1)]\n",
    "\n",
    "counter = 0\n",
    "counter_b = 0\n",
    "for index in range(0, len(altitudes)):\n",
    "    if index >= 1 and altitudes[index] > altitudes[index-1]:\n",
    "        counter += 1\n",
    "    \n",
    "    \n",
    "    last_window = sum(altitudes[index-3:index])\n",
    "    current_window = sum(altitudes[index-2:index+1])\n",
    "#     print(index, altitudes[index], current_window, last_window, current_window > last_window)\n",
    "    if index >= 3:\n",
    "        if current_window > last_window:\n",
    "            counter_b += 1\n",
    "    \n",
    "print(len(altitudes), counter, counter_b)"
   ]
  },
  {
   "cell_type": "markdown",
   "id": "8437ff44",
   "metadata": {},
   "source": [
    "# Day 2"
   ]
  },
  {
   "cell_type": "code",
   "execution_count": 69,
   "id": "f0c167e8",
   "metadata": {},
   "outputs": [
    {
     "name": "stdout",
     "output_type": "stream",
     "text": [
      "1989014\n",
      "2006917119\n"
     ]
    }
   ],
   "source": [
    "commands = [tuple(i.split(' ')) for i in get_data_for_day(2)]\n",
    "\n",
    "# Part A\n",
    "horizontal = 0\n",
    "depth = 0\n",
    "for command in commands:\n",
    "    direction = command[0]\n",
    "    value = int(command[1])\n",
    "    if direction in ['forward']:\n",
    "        horizontal += value\n",
    "    if direction in ['up']:\n",
    "        depth -= value\n",
    "    if direction in ['down']:\n",
    "        depth += value\n",
    "        \n",
    "print(horizontal*depth)\n",
    "\n",
    "# Part B\n",
    "horizontal_b = 0\n",
    "depth_b = 0\n",
    "aim = 0\n",
    "for command in commands:\n",
    "    direction = command[0]\n",
    "    value = int(command[1])\n",
    "    if direction in ['forward']:\n",
    "        horizontal_b += value\n",
    "        depth_b += value*aim\n",
    "    if direction in ['up']:\n",
    "        aim -= value\n",
    "    if direction in ['down']:\n",
    "        aim += value\n",
    "        \n",
    "print(horizontal_b*depth_b)"
   ]
  },
  {
   "cell_type": "markdown",
   "id": "5696664f",
   "metadata": {},
   "source": [
    "# Day 3"
   ]
  },
  {
   "cell_type": "code",
   "execution_count": 85,
   "id": "81fe1c33",
   "metadata": {},
   "outputs": [],
   "source": [
    "report = [i for i in get_data_for_day(3)]"
   ]
  },
  {
   "cell_type": "code",
   "execution_count": 86,
   "id": "a31a8025",
   "metadata": {},
   "outputs": [
    {
     "name": "stdout",
     "output_type": "stream",
     "text": [
      "Part A: 12 [504, 496, 497, 525, 517, 528, 519, 497, 498, 498, 503, 502] 2531 1564 3958484\n"
     ]
    }
   ],
   "source": [
    "report_rows = len(report)\n",
    "\n",
    "counters = [0] * len(report[0])\n",
    "for row in report:\n",
    "    for index, item in enumerate(row):\n",
    "        bit = int(item)\n",
    "        counters[index] += bit\n",
    "        \n",
    "gamma = int(''.join([str(int(c > report_rows / 2)) for c in counters]), 2)\n",
    "epsilon = int(''.join([str(int(c < report_rows / 2)) for c in counters]), 2)\n",
    "print('Part A:', len(report[0]), counters, gamma, epsilon, gamma * epsilon)"
   ]
  },
  {
   "cell_type": "code",
   "execution_count": 97,
   "id": "f40cfd81",
   "metadata": {},
   "outputs": [
    {
     "name": "stdout",
     "output_type": "stream",
     "text": [
      "Part B: 1613181\n"
     ]
    }
   ],
   "source": [
    "report_test = ['00100', '11110', '10110', '10111', '10101', '01111', '00111', '11100', '10000', '11001', '00010', '01010']\n",
    "\n",
    "def get_remaining_rating(remaining, least, most):\n",
    "    index = 0\n",
    "    while len(remaining) > 1:\n",
    "        zeros_ones = [0, 0]\n",
    "        for row in remaining:\n",
    "            zeros_ones[int(row[index])] += 1\n",
    "\n",
    "        if zeros_ones[0] > zeros_ones[1]:\n",
    "            remaining = [r for r in remaining if r[index] == most]\n",
    "        else:\n",
    "            remaining = [r for r in remaining if r[index] == least]\n",
    "        index += 1\n",
    "    return int(remaining[0], 2)\n",
    "\n",
    "print('Part B:', get_remaining_rating(report, '0', '1') * get_remaining_rating(report, '1', '0'))\n"
   ]
  },
  {
   "cell_type": "markdown",
   "id": "bd023bab",
   "metadata": {},
   "source": [
    "# Day 4"
   ]
  },
  {
   "cell_type": "code",
   "execution_count": 273,
   "id": "35e65bd2",
   "metadata": {},
   "outputs": [
    {
     "name": "stdout",
     "output_type": "stream",
     "text": [
      "784 51\n",
      "39984\n",
      "[[(54, False) (97, False) (46, False) (33, False) (90, False)]\n",
      " [(99, True) (93, True) (22, True) (0, True) (51, True)]\n",
      " [(83, False) (53, False) (34, False) (29, False) (38, True)]\n",
      " [(35, False) (65, True) (80, True) (82, False) (9, False)]\n",
      " [(56, False) (30, True) (19, False) (49, False) (15, False)]]\n",
      "116 73\n",
      "8468\n",
      "[[(11, False) (69, True) (4, True) (6, True) (23, True)]\n",
      " [(38, True) (47, False) (16, False) (99, True) (96, True)]\n",
      " [(7, True) (13, True) (40, True) (41, False) (78, True)]\n",
      " [(12, True) (5, True) (1, False) (18, True) (88, True)]\n",
      " [(20, True) (42, True) (10, True) (82, True) (73, True)]]\n"
     ]
    }
   ],
   "source": [
    "day_4_data = [i for i in get_data_for_day(4, False)]\n",
    "\n",
    "class Board:\n",
    "    def __init__(self, data):\n",
    "        self.data = data\n",
    "        self.items = np.array(data, tuple)\n",
    "        self.skip = False\n",
    "        for x, row in enumerate(data):\n",
    "            for y, value in enumerate(row):\n",
    "                self.items[x][y] = (int(value), False)\n",
    "        \n",
    "    def get_row(self, x):\n",
    "        return self.items[x]\n",
    "    \n",
    "    def get_column(self, x):\n",
    "        return [self.items[t][x] for t in range(5)]\n",
    "\n",
    "    def check_number(self, number):\n",
    "        for x, row in enumerate(self.items):\n",
    "            for y, value in enumerate(row):\n",
    "                if value[0] == number:\n",
    "                    self.items[x][y] = (int(number), True)\n",
    "                \n",
    "    def has_bingo(self):\n",
    "        for r in range(5):\n",
    "            bingo_row = len([i for i in range(5) if self.get_row(r)[i][1]]) == 5\n",
    "            bingo_column = len([i for i in range(5) if self.get_column(r)[i][1]]) == 5\n",
    "            if bingo_row or bingo_column:\n",
    "                return True\n",
    "        return False\n",
    "    \n",
    "    def get_sum_unmarked(self):\n",
    "        sums = 0\n",
    "        for x, row in enumerate(self.items):\n",
    "            for y, value in enumerate(row):\n",
    "                if not value[1]:\n",
    "                    sums += value[0]\n",
    "                \n",
    "        return sums\n",
    "\n",
    "board_data_raw = day_4_data[2:]\n",
    "\n",
    "boards = []\n",
    "board_data = []\n",
    "for line in board_data_raw:\n",
    "    row = line.split()\n",
    "    if len(row) == 5:\n",
    "        board_data.append(row)\n",
    "    if len(board_data) == 5:\n",
    "        boards.append(Board(board_data))\n",
    "        board_data = []\n",
    "    \n",
    "\n",
    "bingo_numbers = [int(n) for n in day_4_data[0].split(',')]\n",
    "\n",
    "last_board = None\n",
    "def play_bingo():\n",
    "    first = True\n",
    "    for bingo_number in bingo_numbers:\n",
    "        for board in boards:\n",
    "            board.check_number(bingo_number)\n",
    "\n",
    "            if board.has_bingo() and not board.skip:\n",
    "                last_board = board\n",
    "                if first:\n",
    "    #                 print(board.items)\n",
    "                    print(board.get_sum_unmarked(), bingo_number)\n",
    "                    print(board.get_sum_unmarked() * bingo_number)\n",
    "                    print(board.items)\n",
    "                    first = False\n",
    "                board.skip = True\n",
    "        \n",
    "        not_bingo_boards = [board for board in boards if not board.has_bingo()]\n",
    "        if len(not_bingo_boards) == 0:\n",
    "            print(last_board.get_sum_unmarked(), bingo_number)\n",
    "            print(last_board.get_sum_unmarked() * bingo_number)\n",
    "            print(last_board.items)\n",
    "            return\n",
    "\n",
    "play_bingo()\n",
    "\n"
   ]
  },
  {
   "cell_type": "markdown",
   "id": "fe4266e2-ba1b-4dde-8e2e-17ba0ae019d7",
   "metadata": {},
   "source": [
    "# Day 5"
   ]
  },
  {
   "cell_type": "code",
   "execution_count": 346,
   "id": "5365ac4a-80aa-471a-a785-e3ef6c55860c",
   "metadata": {},
   "outputs": [
    {
     "name": "stdout",
     "output_type": "stream",
     "text": [
      "[[0 0 0 ... 0 0 0]\n",
      " [0 0 0 ... 0 0 0]\n",
      " [0 0 0 ... 0 0 0]\n",
      " ...\n",
      " [0 0 0 ... 1 2 0]\n",
      " [0 0 0 ... 0 0 0]\n",
      " [0 0 0 ... 0 0 0]]\n",
      "19676\n"
     ]
    }
   ],
   "source": [
    "import re\n",
    "\n",
    "all_x = []\n",
    "all_y = []\n",
    "\n",
    "day_5_data = [i for i in get_data_for_day(5, False)]\n",
    "for row in day_5_data:\n",
    "    prog = re.compile('^(\\d+),(\\d+) -> (\\d+),(\\d+)$')\n",
    "    found = prog.match(row)\n",
    "    x1 = int(found.group(1))\n",
    "    y1 = int(found.group(2))\n",
    "    x2 = int(found.group(3))\n",
    "    y2 = int(found.group(4))\n",
    "    all_x.append(x1)\n",
    "    all_x.append(x2)\n",
    "    all_y.append(y1)\n",
    "    all_y.append(y2)\n",
    "    \n",
    "grid = np.zeros(((max(all_x) + 1), (max(all_y)) + 1), dtype=int)\n",
    "\n",
    "for row in day_5_data:\n",
    "    prog = re.compile('^(\\d+),(\\d+) -> (\\d+),(\\d+)$')\n",
    "    found = prog.match(row)\n",
    "    x1 = int(found.group(1))\n",
    "    y1 = int(found.group(2))\n",
    "    x2 = int(found.group(3))\n",
    "    y2 = int(found.group(4))\n",
    "    if x1 == x2:\n",
    "        for y in range(min([y1, y2]), (max([y1, y2]) + 1)):\n",
    "            grid[y][x1] += 1\n",
    "    elif y1 == y2:\n",
    "        for x in range(min([x1, x2]), (max([x1, x2]) + 1)):\n",
    "            grid[y1][x] += 1\n",
    "    else:\n",
    "        for i, y in enumerate(range(y1, (y2 + 1) if y1 < y2 else (y2 - 1), 1 if y1 < y2 else -1)):\n",
    "            for j, x in enumerate(range(x1, (x2 + 1) if x1 < x2 else (x2 - 1), 1 if x1 < x2 else -1)):\n",
    "                if i == j:\n",
    "                    grid[y][x] += 1\n",
    "                \n",
    "print(grid)\n",
    "\n",
    "total = 0\n",
    "for x, row in enumerate(grid):\n",
    "    for y, value in enumerate(row):\n",
    "        if value > 1:\n",
    "            total += 1\n",
    "print(total)"
   ]
  },
  {
   "cell_type": "markdown",
   "id": "44073ab1-0bb5-4064-8a77-4f5c34499156",
   "metadata": {},
   "source": [
    "# Day 6"
   ]
  },
  {
   "cell_type": "code",
   "execution_count": 2,
   "id": "442bb973-db1f-4ff6-8246-2d265c7dd95f",
   "metadata": {},
   "outputs": [
    {
     "name": "stdout",
     "output_type": "stream",
     "text": [
      "374994\n"
     ]
    }
   ],
   "source": [
    "# Part A\n",
    "day_6_data = list(map(int, get_data_for_day(6, False)[0].split(',')))\n",
    "# print(day_6_data)\n",
    "\n",
    "def get_fish(initial_data, days):\n",
    "    daily_data = initial_data\n",
    "    for day in range(days):\n",
    "        zeros = len([d for d in daily_data if d == 0])\n",
    "        daily_data = [6 if d == 0 else d - 1 for d in daily_data]\n",
    "        for z in range(zeros):\n",
    "            daily_data.append(8)\n",
    "    return daily_data\n",
    "\n",
    "print(len(get_fish(day_6_data, 80)))"
   ]
  },
  {
   "cell_type": "code",
   "execution_count": 3,
   "id": "e244b2e5-643c-4d49-b228-d3544d0bc6fa",
   "metadata": {},
   "outputs": [
    {
     "name": "stdout",
     "output_type": "stream",
     "text": [
      "1686252324092\n"
     ]
    }
   ],
   "source": [
    "# Part B\n",
    "sums = 0\n",
    "day_map = {}\n",
    "for day in range(9):\n",
    "    day_map[day] = get_fish([day], 128)\n",
    "    \n",
    "for fish_lifes in day_6_data:\n",
    "    for fish_life in day_map[fish_lifes]:\n",
    "        sums += len(day_map[fish_life])\n",
    "\n",
    "print(sums)"
   ]
  },
  {
   "cell_type": "markdown",
   "id": "beaccfd0",
   "metadata": {},
   "source": [
    "# Day 7"
   ]
  },
  {
   "cell_type": "code",
   "execution_count": 28,
   "id": "7a777968-b178-40ab-aa25-b92ad88a6c01",
   "metadata": {},
   "outputs": [
    {
     "name": "stdout",
     "output_type": "stream",
     "text": [
      "Part A: 337833\n",
      "Part B: 96678050\n"
     ]
    }
   ],
   "source": [
    "# Part A\n",
    "import statistics\n",
    "\n",
    "day_7_data = list(map(int, get_data_for_day(7, False)[0].split(',')))\n",
    "median = int(statistics.median(day_7_data))\n",
    "\n",
    "fuel_a = [abs(median-move) for move in day_7_data]\n",
    "print(f\"Part A: {sum(fuel_a)}\")\n",
    "\n",
    "avg = round(sum(day_7_data) / len(day_7_data))\n",
    "min_sum = float('Infinity')\n",
    "for x in range(min(day_7_data), max(day_7_data)):\n",
    "    fuel_b = [(abs(x-move) * (abs(x-move) + 1) / 2) for move in day_7_data]\n",
    "    min_sum = min(int(sum(fuel_b)), min_sum)\n",
    "print(f\"Part B: {min_sum}\")"
   ]
  },
  {
   "cell_type": "markdown",
   "id": "43d6e627-2f55-44ff-9271-ab27a8a7f4be",
   "metadata": {},
   "source": [
    "# Day 8"
   ]
  },
  {
   "cell_type": "code",
   "execution_count": 117,
   "id": "7b337d79-d30a-4fa4-85f6-066f243797e4",
   "metadata": {},
   "outputs": [
    {
     "name": "stdout",
     "output_type": "stream",
     "text": [
      "Part A: 800\n",
      "Part B: 1011823\n"
     ]
    }
   ],
   "source": [
    "day_8_data = [row.split(' | ') for row in list(get_data_for_day(8, False))]\n",
    "\n",
    "count_per_digit = {\n",
    "    0: 6,\n",
    "    1: 2,\n",
    "    2: 5,\n",
    "    3: 5,\n",
    "    4: 4,\n",
    "    5: 5,\n",
    "    6: 6,\n",
    "    7: 3,\n",
    "    8: 7,\n",
    "    9: 6,\n",
    "}\n",
    "\n",
    "counter = 0\n",
    "for groups in day_8_data:\n",
    "    counter += len([diget for diget in groups[1].split() if len(diget) in list(count_per_digit.values())])\n",
    "\n",
    "print(f\"Part A: {counter}\")\n",
    "\n",
    "def sort_digit_letters(digit_letters):\n",
    "    return [''.join(sorted(list(d))) for d in digit_letters]\n",
    "\n",
    "def deduct_digets(all_digits):\n",
    "    digits = ['' for i in range(10)]\n",
    "    for item in all_digits:\n",
    "        if len(item) == 2:\n",
    "            digits[1] = item\n",
    "        elif len(item) == 3:\n",
    "            digits[7] = item\n",
    "        elif len(item) == 4:\n",
    "            digits[4] = item\n",
    "        elif len(item) == 7:\n",
    "            digits[8] = item\n",
    "\n",
    "    for item in all_digits:\n",
    "        if len(item) == 5 and len([l for l in item if l not in digits[7]]) == 2:\n",
    "            digits[3] = item\n",
    "\n",
    "    for item in all_digits:\n",
    "        if len(item) == 6 and len([l for l in item if l not in digits[3]]) == 1:\n",
    "            digits[9] = item\n",
    "\n",
    "    for item in all_digits:\n",
    "        if len(item) == 5 and len([l for l in item if l not in digits[9]]) == 1:\n",
    "            digits[2] = item\n",
    "\n",
    "    for item in all_digits:\n",
    "        if len(item) == 5 and item not in digits:\n",
    "            digits[5] = item\n",
    "\n",
    "    for item in all_digits:\n",
    "        if len(item) == 6 and len([l for l in digits[3] if l not in item]) == 1 and len([l for l in digits[1] if l not in item]) == 1:\n",
    "            digits[6] = item\n",
    "\n",
    "    for item in all_digits:\n",
    "        if len(item) == 6 and item not in digits:\n",
    "            digits[0] = item\n",
    "\n",
    "    sorted_digits = sort_digit_letters(digits)\n",
    "    return sorted_digits\n",
    "    \n",
    "code_sum = 0\n",
    "for row in day_8_data:\n",
    "    shuffled_digits = row[0].split(' ')\n",
    "    code = row[1].split(' ')\n",
    "    deducted = deduct_digets(shuffled_digits)\n",
    "    decoded_code = int(''.join([str(deducted.index(d)) for d in sort_digit_letters(code)]))\n",
    "    code_sum += decoded_code\n",
    "\n",
    "print(f\"Part B: {code_sum}\")"
   ]
  },
  {
   "cell_type": "code",
   "execution_count": null,
   "id": "cf35ed7c-5cc1-4e4d-b03d-9d1f0d615248",
   "metadata": {},
   "outputs": [],
   "source": []
  }
 ],
 "metadata": {
  "kernelspec": {
   "display_name": "Python 3",
   "language": "python",
   "name": "python3"
  },
  "language_info": {
   "codemirror_mode": {
    "name": "ipython",
    "version": 3
   },
   "file_extension": ".py",
   "mimetype": "text/x-python",
   "name": "python",
   "nbconvert_exporter": "python",
   "pygments_lexer": "ipython3",
   "version": "3.8.8"
  }
 },
 "nbformat": 4,
 "nbformat_minor": 5
}
